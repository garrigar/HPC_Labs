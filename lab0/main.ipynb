{
 "cells": [
  {
   "cell_type": "code",
   "execution_count": 1,
   "metadata": {},
   "outputs": [
    {
     "name": "stdout",
     "output_type": "stream",
     "text": [
      "---------CLEANING---------\n",
      "rm -f lib/*.a\n",
      "rm -f matmul_methods*\n",
      "rm -f sourcecode_matmul_methods.cpp\n",
      "rm -rf build\n",
      "--------------------------\n",
      "----COMPILE CUDA FILES----\n",
      "nvcc --compiler-options -fPIC -lib -odir lib -o lib/libmatmul.a cuda/matmul.cu \n",
      "--------------------------\n",
      "---COMPILE CYTHON FILES---\n",
      "python3 compile_cython.py build_ext --inplace\n",
      "{'home': '/usr/local/cuda', 'nvcc': '/usr/local/cuda/bin/nvcc', 'include': '/usr/local/cuda/include', 'lib64': '/usr/local/cuda/lib64'}\n",
      "running build_ext\n",
      "cythoning sourcecode_matmul_methods.pyx to sourcecode_matmul_methods.cpp\n",
      "/usr/local/lib/python3.8/dist-packages/Cython/Compiler/Main.py:369: FutureWarning: Cython directive 'language_level' not set, using 2 for now (Py2). This will change in a later release! File: /home/ikilbas/RAIL/HPC/lab1/sourcecode_matmul_methods.pyx\n",
      "  tree = Parsing.p_module(s, pxd, full_module_name)\n",
      "building 'matmul_methods' extension\n",
      "creating build\n",
      "creating build/temp.linux-x86_64-3.8\n",
      "x86_64-linux-gnu-gcc -pthread -Wno-unused-result -Wsign-compare -DNDEBUG -g -fwrapv -O2 -Wall -g -fstack-protector-strong -Wformat -Werror=format-security -g -fwrapv -O2 -g -fstack-protector-strong -Wformat -Werror=format-security -Wdate-time -D_FORTIFY_SOURCE=2 -fPIC -I/usr/local/cuda/include -I/usr/local/cuda/include -I/usr/include/python3.8 -c sourcecode_matmul_methods.cpp -o build/temp.linux-x86_64-3.8/sourcecode_matmul_methods.o -fopenmp\n",
      "x86_64-linux-gnu-g++ -pthread -shared -Wl,-O1 -Wl,-Bsymbolic-functions -Wl,-Bsymbolic-functions -Wl,-z,relro -g -fwrapv -O2 -Wl,-Bsymbolic-functions -Wl,-z,relro -g -fwrapv -O2 -g -fstack-protector-strong -Wformat -Werror=format-security -Wdate-time -D_FORTIFY_SOURCE=2 build/temp.linux-x86_64-3.8/sourcecode_matmul_methods.o -L/usr/local/cuda/lib64 lib/libmatmul.a -lcudart -lcublas -o /home/ikilbas/RAIL/HPC/lab1/matmul_methods.cpython-38-x86_64-linux-gnu.so -fopenmp\n",
      "--------------------------\n"
     ]
    }
   ],
   "source": [
    "!make build"
   ]
  },
  {
   "cell_type": "code",
   "execution_count": 2,
   "metadata": {},
   "outputs": [],
   "source": [
    "from matmul_methods import cuda_matmul, cpu_matmul, cpu_openmp_matmul\n",
    "import numpy as np\n",
    "import pandas as pd\n",
    "import matplotlib.pyplot as plt\n",
    "\n",
    "from timeit import timeit"
   ]
  },
  {
   "cell_type": "markdown",
   "metadata": {},
   "source": [
    "Check correctness"
   ]
  },
  {
   "cell_type": "code",
   "execution_count": 3,
   "metadata": {},
   "outputs": [
    {
     "data": {
      "text/plain": [
       "(array([[12., 26., 42., 42.],\n",
       "        [23., 41., 49.,  0.],\n",
       "        [31.,  0., 28., 13.]], dtype=float32),\n",
       " array([[23.,  7., 19., 28., 43.],\n",
       "        [36., 47., 29., 48., 35.],\n",
       "        [31., 27., 28., 13., 36.],\n",
       "        [38., 14., 32.,  8., 46.]], dtype=float32),\n",
       " array([[4110., 3028., 3502., 2466., 4870.],\n",
       "        [3524., 3411., 2998., 3249., 4188.],\n",
       "        [2075., 1155., 1789., 1336., 2939.]], dtype=float32))"
      ]
     },
     "execution_count": 3,
     "metadata": {},
     "output_type": "execute_result"
    }
   ],
   "source": [
    "A = np.random.randint(50, size=(3, 4)).astype(np.float32)\n",
    "B = np.random.randint(50, size=(4, 5)).astype(np.float32)\n",
    "C = np.matmul(A, B).astype(np.float32)\n",
    "\n",
    "Af = A.astype(np.float32, order=\"F\")\n",
    "Bf = B.astype(np.float32, order=\"F\")\n",
    "Cf = C.astype(np.float32, order=\"F\")\n",
    "\n",
    "A, B, C"
   ]
  },
  {
   "cell_type": "code",
   "execution_count": 4,
   "metadata": {},
   "outputs": [
    {
     "data": {
      "text/plain": [
       "array([[4110., 3028., 3502., 2466., 4870.],\n",
       "       [3524., 3411., 2998., 3249., 4188.],\n",
       "       [2075., 1155., 1789., 1336., 2939.]], dtype=float32)"
      ]
     },
     "execution_count": 4,
     "metadata": {},
     "output_type": "execute_result"
    }
   ],
   "source": [
    "Cf1 = np.empty_like(Cf)\n",
    "cuda_matmul(Af, Bf, Cf1)\n",
    "Cf1"
   ]
  },
  {
   "cell_type": "code",
   "execution_count": 5,
   "metadata": {},
   "outputs": [
    {
     "data": {
      "text/plain": [
       "array([[4110., 3028., 3502., 2466., 4870.],\n",
       "       [3524., 3411., 2998., 3249., 4188.],\n",
       "       [2075., 1155., 1789., 1336., 2939.]], dtype=float32)"
      ]
     },
     "execution_count": 5,
     "metadata": {},
     "output_type": "execute_result"
    }
   ],
   "source": [
    "C2 = np.empty_like(C)\n",
    "cpu_matmul(A, B, C2)\n",
    "C2"
   ]
  },
  {
   "cell_type": "code",
   "execution_count": 6,
   "metadata": {},
   "outputs": [
    {
     "data": {
      "text/plain": [
       "array([[4110., 3028., 3502., 2466., 4870.],\n",
       "       [3524., 3411., 2998., 3249., 4188.],\n",
       "       [2075., 1155., 1789., 1336., 2939.]], dtype=float32)"
      ]
     },
     "execution_count": 6,
     "metadata": {},
     "output_type": "execute_result"
    }
   ],
   "source": [
    "C3 = np.empty_like(C)\n",
    "cpu_openmp_matmul(A, B, C3)\n",
    "C3"
   ]
  },
  {
   "cell_type": "code",
   "execution_count": 7,
   "metadata": {},
   "outputs": [
    {
     "data": {
      "text/plain": [
       "(True, True, True)"
      ]
     },
     "execution_count": 7,
     "metadata": {},
     "output_type": "execute_result"
    }
   ],
   "source": [
    "np.array_equal(C, Cf1), np.array_equal(C, C2), np.array_equal(C, C3)"
   ]
  },
  {
   "cell_type": "markdown",
   "metadata": {},
   "source": [
    "Stress test"
   ]
  },
  {
   "cell_type": "markdown",
   "metadata": {},
   "source": [
    "(going to be testing only square matrices)"
   ]
  },
  {
   "cell_type": "code",
   "execution_count": 8,
   "metadata": {},
   "outputs": [],
   "source": [
    "dims_to_test = [2**i for i in range(3, 12)]\n",
    "repeats = 5\n",
    "\n",
    "df = pd.DataFrame(columns=('CPU', 'CPU OPENMP', 'GPU'))"
   ]
  },
  {
   "cell_type": "code",
   "execution_count": 9,
   "metadata": {},
   "outputs": [
    {
     "name": "stdout",
     "output_type": "stream",
     "text": [
      "test n=8\n",
      "test n=16\n",
      "test n=32\n",
      "test n=64\n",
      "test n=128\n",
      "test n=256\n",
      "test n=512\n",
      "test n=1024\n",
      "test n=2048\n"
     ]
    }
   ],
   "source": [
    "for n in dims_to_test:\n",
    "    \n",
    "    print(f'test n={n}')\n",
    "    \n",
    "    A = np.random.randint(100, size=(n, n)).astype(np.float32)\n",
    "    B = np.random.randint(100, size=(n, n)).astype(np.float32)\n",
    "    C = np.matmul(A, B).astype(np.float32)\n",
    "\n",
    "    Af = A.astype(np.float32, order=\"F\")\n",
    "    Bf = B.astype(np.float32, order=\"F\")\n",
    "    Cf = C.astype(np.float32, order=\"F\")\n",
    "    \n",
    "    Cf1 = np.empty_like(Cf)\n",
    "    C2 = np.empty_like(C)\n",
    "    C3 = np.empty_like(C)\n",
    "    \n",
    "    cuda_matmul(Af, Bf, Cf1)\n",
    "    cpu_matmul(A, B, C2)\n",
    "    cpu_openmp_matmul(A, B, C3)\n",
    "    \n",
    "    assert np.array_equal(C, Cf1)\n",
    "    assert np.array_equal(C, C2)\n",
    "    assert np.array_equal(C, C3)\n",
    "    \n",
    "        \n",
    "    gpu_times = np.zeros(repeats, dtype=np.float)\n",
    "    for i in range(repeats):\n",
    "        gpu_times[i] = cuda_matmul(Af, Bf, Cf1)\n",
    "    gpu_time = gpu_times.mean()  # in ms\n",
    "        \n",
    "    cpu_time = timeit(lambda: cpu_matmul(A, B, C2), number=repeats) / repeats  # in sec\n",
    "    cpu_time *= 1000  # in ms\n",
    "    \n",
    "    cpu_openmp_time = timeit(lambda: cpu_openmp_matmul(A, B, C3), number=repeats) / repeats  # in sec\n",
    "    cpu_openmp_time *= 1000  # in ms\n",
    "    \n",
    "    df.loc[n] = [cpu_time, cpu_openmp_time, gpu_time]\n",
    "    "
   ]
  },
  {
   "cell_type": "code",
   "execution_count": 10,
   "metadata": {},
   "outputs": [
    {
     "data": {
      "text/html": [
       "<div>\n",
       "<style scoped>\n",
       "    .dataframe tbody tr th:only-of-type {\n",
       "        vertical-align: middle;\n",
       "    }\n",
       "\n",
       "    .dataframe tbody tr th {\n",
       "        vertical-align: top;\n",
       "    }\n",
       "\n",
       "    .dataframe thead th {\n",
       "        text-align: right;\n",
       "    }\n",
       "</style>\n",
       "<table border=\"1\" class=\"dataframe\">\n",
       "  <thead>\n",
       "    <tr style=\"text-align: right;\">\n",
       "      <th></th>\n",
       "      <th>CPU</th>\n",
       "      <th>CPU OPENMP</th>\n",
       "      <th>GPU</th>\n",
       "    </tr>\n",
       "  </thead>\n",
       "  <tbody>\n",
       "    <tr>\n",
       "      <th>8</th>\n",
       "      <td>0.004743</td>\n",
       "      <td>0.163313</td>\n",
       "      <td>0.014157</td>\n",
       "    </tr>\n",
       "    <tr>\n",
       "      <th>16</th>\n",
       "      <td>0.010795</td>\n",
       "      <td>0.122105</td>\n",
       "      <td>0.013190</td>\n",
       "    </tr>\n",
       "    <tr>\n",
       "      <th>32</th>\n",
       "      <td>0.058045</td>\n",
       "      <td>0.128014</td>\n",
       "      <td>0.016186</td>\n",
       "    </tr>\n",
       "    <tr>\n",
       "      <th>64</th>\n",
       "      <td>0.317804</td>\n",
       "      <td>0.175761</td>\n",
       "      <td>0.014150</td>\n",
       "    </tr>\n",
       "    <tr>\n",
       "      <th>128</th>\n",
       "      <td>5.035665</td>\n",
       "      <td>0.576763</td>\n",
       "      <td>0.025280</td>\n",
       "    </tr>\n",
       "    <tr>\n",
       "      <th>256</th>\n",
       "      <td>22.050053</td>\n",
       "      <td>5.750790</td>\n",
       "      <td>0.025139</td>\n",
       "    </tr>\n",
       "    <tr>\n",
       "      <th>512</th>\n",
       "      <td>216.300257</td>\n",
       "      <td>27.472460</td>\n",
       "      <td>0.050291</td>\n",
       "    </tr>\n",
       "    <tr>\n",
       "      <th>1024</th>\n",
       "      <td>2635.734687</td>\n",
       "      <td>305.527912</td>\n",
       "      <td>0.232941</td>\n",
       "    </tr>\n",
       "    <tr>\n",
       "      <th>2048</th>\n",
       "      <td>27985.670959</td>\n",
       "      <td>2744.516414</td>\n",
       "      <td>1.627123</td>\n",
       "    </tr>\n",
       "  </tbody>\n",
       "</table>\n",
       "</div>"
      ],
      "text/plain": [
       "               CPU   CPU OPENMP       GPU\n",
       "8         0.004743     0.163313  0.014157\n",
       "16        0.010795     0.122105  0.013190\n",
       "32        0.058045     0.128014  0.016186\n",
       "64        0.317804     0.175761  0.014150\n",
       "128       5.035665     0.576763  0.025280\n",
       "256      22.050053     5.750790  0.025139\n",
       "512     216.300257    27.472460  0.050291\n",
       "1024   2635.734687   305.527912  0.232941\n",
       "2048  27985.670959  2744.516414  1.627123"
      ]
     },
     "execution_count": 10,
     "metadata": {},
     "output_type": "execute_result"
    }
   ],
   "source": [
    "df"
   ]
  },
  {
   "cell_type": "code",
   "execution_count": 11,
   "metadata": {},
   "outputs": [],
   "source": [
    "xticks = range(len(df.index))\n",
    "xticklabels = df.index.tolist()"
   ]
  },
  {
   "cell_type": "code",
   "execution_count": 12,
   "metadata": {},
   "outputs": [
    {
     "data": {
      "text/plain": [
       "<matplotlib.legend.Legend at 0x7fe56c5e3e20>"
      ]
     },
     "execution_count": 12,
     "metadata": {},
     "output_type": "execute_result"
    },
    {
     "data": {
      "image/png": "[encoded data removed]",
      "text/plain": [
       "<Figure size 720x504 with 1 Axes>"
      ]
     },
     "metadata": {
      "needs_background": "light"
     },
     "output_type": "display_data"
    }
   ],
   "source": [
    "plt.figure(figsize=(10, 7))\n",
    "\n",
    "ax = plt.axes()\n",
    "ax.set_xticks(xticks)\n",
    "ax.set_xticklabels(xticklabels)\n",
    "\n",
    "plt.title('TIME (ms)')\n",
    "plt.yscale('log')\n",
    "\n",
    "plt.xlabel('N')\n",
    "plt.ylabel('ms\\n(logarithmic scale)')\n",
    "\n",
    "plt.plot(df['CPU'].tolist(), label='CPU')\n",
    "plt.plot(df['CPU OPENMP'].tolist(), label='CPU OpenMP')\n",
    "plt.plot(df['GPU'].tolist(), label='GPU')\n",
    "\n",
    "plt.grid()\n",
    "plt.legend()"
   ]
  },
  {
   "cell_type": "code",
   "execution_count": 13,
   "metadata": {},
   "outputs": [
    {
     "data": {
      "text/plain": [
       "<matplotlib.legend.Legend at 0x7fe56c3b3fd0>"
      ]
     },
     "execution_count": 13,
     "metadata": {},
     "output_type": "execute_result"
    },
    {
     "data": {
      "image/png": "[encoded data removed]",
      "text/plain": [
       "<Figure size 720x504 with 1 Axes>"
      ]
     },
     "metadata": {
      "needs_background": "light"
     },
     "output_type": "display_data"
    }
   ],
   "source": [
    "plt.figure(figsize=(10, 7))\n",
    "\n",
    "ax = plt.axes()\n",
    "ax.set_xticks(xticks)\n",
    "ax.set_xticklabels(xticklabels)\n",
    "\n",
    "plt.title('ACCELERATION')\n",
    "plt.yscale('log')\n",
    "\n",
    "plt.xlabel('N')\n",
    "plt.ylabel('(logarithmic scale)')\n",
    "\n",
    "plt.plot((df['CPU'] / df['CPU OPENMP']).tolist(), label='CPU OpenMP vs. CPU')\n",
    "plt.plot((df['CPU'] / df['GPU']).tolist(), label='GPU vs. CPU')\n",
    "\n",
    "plt.grid()\n",
    "plt.legend()"
   ]
  },
  {
   "cell_type": "code",
   "execution_count": 14,
   "metadata": {},
   "outputs": [
    {
     "name": "stdout",
     "output_type": "stream",
     "text": [
      "|      |            CPU |   CPU OPENMP |       GPU |\n",
      "|-----:|---------------:|-------------:|----------:|\n",
      "|    8 |     0.00474341 |     0.163313 | 0.0141568 |\n",
      "|   16 |     0.010795   |     0.122105 | 0.0131904 |\n",
      "|   32 |     0.0580452  |     0.128014 | 0.0161856 |\n",
      "|   64 |     0.317804   |     0.175761 | 0.0141504 |\n",
      "|  128 |     5.03566    |     0.576763 | 0.02528   |\n",
      "|  256 |    22.0501     |     5.75079  | 0.0251392 |\n",
      "|  512 |   216.3        |    27.4725   | 0.0502912 |\n",
      "| 1024 |  2635.73       |   305.528    | 0.232941  |\n",
      "| 2048 | 27985.7        |  2744.52     | 1.62712   |\n"
     ]
    }
   ],
   "source": [
    "print(df.to_markdown())"
   ]
  },
  {
   "cell_type": "code",
   "execution_count": null,
   "metadata": {},
   "outputs": [],
   "source": []
  }
 ],
 "metadata": {
  "interpreter": {
   "hash": "31f2aee4e71d21fbe5cf8b01ff0e069b9275f58929596ceb00d14d90e3e16cd6"
  },
  "kernelspec": {
   "display_name": "Python 3",
   "language": "python",
   "name": "python3"
  },
  "language_info": {
   "codemirror_mode": {
    "name": "ipython",
    "version": 3
   },
   "file_extension": ".py",
   "mimetype": "text/x-python",
   "name": "python",
   "nbconvert_exporter": "python",
   "pygments_lexer": "ipython3",
   "version": "3.8.10"
  }
 },
 "nbformat": 4,
 "nbformat_minor": 4
}
